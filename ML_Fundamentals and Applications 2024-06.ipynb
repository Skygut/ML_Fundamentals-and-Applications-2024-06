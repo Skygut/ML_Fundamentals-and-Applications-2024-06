{
  "metadata": {
    "kernelspec": {
      "language": "python",
      "display_name": "Python 3",
      "name": "python3"
    },
    "language_info": {
      "name": "python",
      "version": "3.10.13",
      "mimetype": "text/x-python",
      "codemirror_mode": {
        "name": "ipython",
        "version": 3
      },
      "pygments_lexer": "ipython3",
      "nbconvert_exporter": "python",
      "file_extension": ".py"
    },
    "kaggle": {
      "accelerator": "none",
      "dataSources": [
        {
          "sourceId": 81723,
          "databundleVersionId": 8865197,
          "sourceType": "competition"
        }
      ],
      "dockerImageVersionId": 30732,
      "isInternetEnabled": false,
      "language": "python",
      "sourceType": "notebook",
      "isGpuEnabled": false
    },
    "colab": {
      "name": "notebook8fc02d768e",
      "provenance": []
    }
  },
  "nbformat_minor": 0,
  "nbformat": 4,
  "cells": [
    {
      "source": [
        "\n",
        "# IMPORTANT: RUN THIS CELL IN ORDER TO IMPORT YOUR KAGGLE DATA SOURCES\n",
        "# TO THE CORRECT LOCATION (/kaggle/input) IN YOUR NOTEBOOK,\n",
        "# THEN FEEL FREE TO DELETE THIS CELL.\n",
        "# NOTE: THIS NOTEBOOK ENVIRONMENT DIFFERS FROM KAGGLE'S PYTHON\n",
        "# ENVIRONMENT SO THERE MAY BE MISSING LIBRARIES USED BY YOUR\n",
        "# NOTEBOOK.\n",
        "\n",
        "import os\n",
        "import sys\n",
        "from tempfile import NamedTemporaryFile\n",
        "from urllib.request import urlopen\n",
        "from urllib.parse import unquote, urlparse\n",
        "from urllib.error import HTTPError\n",
        "from zipfile import ZipFile\n",
        "import tarfile\n",
        "import shutil\n",
        "\n",
        "CHUNK_SIZE = 40960\n",
        "DATA_SOURCE_MAPPING = 'ml-fundamentals-and-applications-2024-06:https%3A%2F%2Fstorage.googleapis.com%2Fkaggle-competitions-data%2Fkaggle-v2%2F81723%2F8865197%2Fbundle%2Farchive.zip%3FX-Goog-Algorithm%3DGOOG4-RSA-SHA256%26X-Goog-Credential%3Dgcp-kaggle-com%2540kaggle-161607.iam.gserviceaccount.com%252F20241014%252Fauto%252Fstorage%252Fgoog4_request%26X-Goog-Date%3D20241014T152624Z%26X-Goog-Expires%3D259200%26X-Goog-SignedHeaders%3Dhost%26X-Goog-Signature%3D9f2d7b2d8a16f7521ab4e576ffe7113bff257cbfcc1fe6370c3beacd1ca910dad9eb9d76412b575effdf8ee941a4030efc54f0b6158d68bd0deb9a91fcb687703532021595a5cd76726b708d3f1e821c2af118ab4386ec8f0918f1491a78bc6308f7d41a3c8f26e74d6ad06e463c8270fca742569f5269b32ce082acab1f622c18e705f8f91b340e6bf6cbed08e46412b65a5d5e83da634b4a4736ac4595209abc397f415ac1008bfede5ac00ee419fe223672e4f2539aa67150fe1e716943665c84878e19bb3c9d5f244ca48e6a1572f2ff348d0652d106f07515ae6e2d5070a582dc8fd00531af8829e933eff5f54db18acb338e36f65217bf7ef8e97d19f5'\n",
        "\n",
        "KAGGLE_INPUT_PATH='/kaggle/input'\n",
        "KAGGLE_WORKING_PATH='/kaggle/working'\n",
        "KAGGLE_SYMLINK='kaggle'\n",
        "\n",
        "!umount /kaggle/input/ 2> /dev/null\n",
        "shutil.rmtree('/kaggle/input', ignore_errors=True)\n",
        "os.makedirs(KAGGLE_INPUT_PATH, 0o777, exist_ok=True)\n",
        "os.makedirs(KAGGLE_WORKING_PATH, 0o777, exist_ok=True)\n",
        "\n",
        "try:\n",
        "  os.symlink(KAGGLE_INPUT_PATH, os.path.join(\"..\", 'input'), target_is_directory=True)\n",
        "except FileExistsError:\n",
        "  pass\n",
        "try:\n",
        "  os.symlink(KAGGLE_WORKING_PATH, os.path.join(\"..\", 'working'), target_is_directory=True)\n",
        "except FileExistsError:\n",
        "  pass\n",
        "\n",
        "for data_source_mapping in DATA_SOURCE_MAPPING.split(','):\n",
        "    directory, download_url_encoded = data_source_mapping.split(':')\n",
        "    download_url = unquote(download_url_encoded)\n",
        "    filename = urlparse(download_url).path\n",
        "    destination_path = os.path.join(KAGGLE_INPUT_PATH, directory)\n",
        "    try:\n",
        "        with urlopen(download_url) as fileres, NamedTemporaryFile() as tfile:\n",
        "            total_length = fileres.headers['content-length']\n",
        "            print(f'Downloading {directory}, {total_length} bytes compressed')\n",
        "            dl = 0\n",
        "            data = fileres.read(CHUNK_SIZE)\n",
        "            while len(data) > 0:\n",
        "                dl += len(data)\n",
        "                tfile.write(data)\n",
        "                done = int(50 * dl / int(total_length))\n",
        "                sys.stdout.write(f\"\\r[{'=' * done}{' ' * (50-done)}] {dl} bytes downloaded\")\n",
        "                sys.stdout.flush()\n",
        "                data = fileres.read(CHUNK_SIZE)\n",
        "            if filename.endswith('.zip'):\n",
        "              with ZipFile(tfile) as zfile:\n",
        "                zfile.extractall(destination_path)\n",
        "            else:\n",
        "              with tarfile.open(tfile.name) as tarfile:\n",
        "                tarfile.extractall(destination_path)\n",
        "            print(f'\\nDownloaded and uncompressed: {directory}')\n",
        "    except HTTPError as e:\n",
        "        print(f'Failed to load (likely expired) {download_url} to path {destination_path}')\n",
        "        continue\n",
        "    except OSError as e:\n",
        "        print(f'Failed to load {download_url} to path {destination_path}')\n",
        "        continue\n",
        "\n",
        "print('Data source import complete.')\n"
      ],
      "metadata": {
        "id": "GNlgzI3Po0bU"
      },
      "cell_type": "code",
      "outputs": [],
      "execution_count": null
    },
    {
      "cell_type": "code",
      "source": [
        "import pandas as pd\n",
        "from sklearn.impute import SimpleImputer\n",
        "from sklearn.preprocessing import OrdinalEncoder, StandardScaler\n",
        "from sklearn.compose import ColumnTransformer\n",
        "from imblearn.pipeline import Pipeline as imbpipeline\n",
        "from sklearn.model_selection import train_test_split, RandomizedSearchCV\n",
        "from sklearn.ensemble import GradientBoostingClassifier\n",
        "from sklearn.metrics import balanced_accuracy_score\n",
        "from imblearn.over_sampling import SMOTE\n",
        "from sklearn.feature_selection import SelectKBest, f_classif"
      ],
      "metadata": {
        "execution": {
          "iopub.status.busy": "2024-06-23T19:13:11.860076Z",
          "iopub.execute_input": "2024-06-23T19:13:11.86053Z",
          "iopub.status.idle": "2024-06-23T19:13:13.663225Z",
          "shell.execute_reply.started": "2024-06-23T19:13:11.860498Z",
          "shell.execute_reply": "2024-06-23T19:13:13.662054Z"
        },
        "trusted": true,
        "id": "dfOPBIeZo0bW"
      },
      "execution_count": null,
      "outputs": []
    },
    {
      "cell_type": "code",
      "source": [],
      "metadata": {
        "id": "S7NfBqlqo0bW"
      },
      "execution_count": null,
      "outputs": []
    },
    {
      "cell_type": "markdown",
      "source": [
        "Link to competition: https://www.kaggle.com/competitions/ml-fundamentals-and-applications-2024-06\n"
      ],
      "metadata": {
        "id": "0oyaT7g2o0bW"
      }
    },
    {
      "cell_type": "code",
      "source": [
        "data = pd.read_csv('/kaggle/input/ml-fundamentals-and-applications-2024-06/final_proj_data.csv')\n",
        "test_data = pd.read_csv('/kaggle/input/ml-fundamentals-and-applications-2024-06/final_proj_test.csv')"
      ],
      "metadata": {
        "execution": {
          "iopub.status.busy": "2024-06-23T19:13:16.069426Z",
          "iopub.execute_input": "2024-06-23T19:13:16.06994Z",
          "iopub.status.idle": "2024-06-23T19:13:16.576146Z",
          "shell.execute_reply.started": "2024-06-23T19:13:16.069907Z",
          "shell.execute_reply": "2024-06-23T19:13:16.574477Z"
        },
        "trusted": true,
        "id": "9LM9HQtho0bX"
      },
      "execution_count": null,
      "outputs": []
    },
    {
      "cell_type": "code",
      "source": [
        "data = data.astype(str)\n",
        "test_data = test_data.astype(str)\n",
        "\n",
        "X = data.drop('y', axis=1)\n",
        "y = data['y']\n",
        "\n",
        "numerical_cols = X.select_dtypes(include=['float64', 'int64']).columns\n",
        "categorical_cols = X.select_dtypes(include=['object']).columns\n",
        "\n",
        "numerical_transformer = imbpipeline(steps=[\n",
        "    ('imputer', SimpleImputer(strategy='constant', fill_value=-1)),\n",
        "    ('scaler', StandardScaler())\n",
        "])\n",
        "\n",
        "categorical_transformer = imbpipeline(steps=[\n",
        "    ('imputer', SimpleImputer(strategy='constant', fill_value=-1)),\n",
        "    ('encoder', OrdinalEncoder(handle_unknown='use_encoded_value', unknown_value=-1))\n",
        "])\n",
        "\n",
        "preprocessor = ColumnTransformer(\n",
        "    transformers=[\n",
        "        ('num', numerical_transformer, numerical_cols),\n",
        "        ('cat', categorical_transformer, categorical_cols)\n",
        "    ])\n",
        "\n",
        "pipeline = imbpipeline(steps=[\n",
        "    ('preprocessor', preprocessor),\n",
        "    ('selectkbest', SelectKBest(score_func=f_classif)),\n",
        "    ('smote', SMOTE(random_state=42)),\n",
        "    ('classifier', GradientBoostingClassifier(random_state=42))\n",
        "])\n",
        "\n",
        "param_dist = {\n",
        "    'selectkbest__k': [43],\n",
        "    'smote__k_neighbors': [5],\n",
        "    'classifier__n_estimators': [3],\n",
        "    'classifier__learning_rate': [0.2],\n",
        "    'classifier__max_depth': [5],\n",
        "    'classifier__subsample': [0.78],\n",
        "    'classifier__min_samples_split': [7]\n",
        "}\n",
        "\n",
        "X_train, X_val, y_train, y_val = train_test_split(X, y, test_size=0.2, random_state=42)\n",
        "\n",
        "random_search = RandomizedSearchCV(estimator=pipeline, param_distributions=param_dist,\n",
        "                                   n_iter=1, scoring='balanced_accuracy',\n",
        "                                   cv=5, random_state=42, n_jobs=-1)\n",
        "random_search.fit(X_train, y_train)\n",
        "\n",
        "best_pipeline = random_search.best_estimator_\n",
        "\n",
        "y_val_pred = best_pipeline.predict(X_val)\n",
        "\n",
        "balanced_accuracy_val = balanced_accuracy_score(y_val, y_val_pred)\n",
        "\n",
        "print(f'Validation Balanced Accuracy: {balanced_accuracy_val}')\n",
        "\n",
        "test_predictions = best_pipeline.predict(test_data)\n",
        "\n",
        "test_predictions_df = pd.DataFrame({'index': test_data.index, 'y': test_predictions})\n",
        "\n",
        "test_predictions_df.to_csv('submission.csv', index=False)"
      ],
      "metadata": {
        "execution": {
          "iopub.status.busy": "2024-06-23T19:14:05.3027Z",
          "iopub.execute_input": "2024-06-23T19:14:05.303196Z",
          "iopub.status.idle": "2024-06-23T19:14:23.57831Z",
          "shell.execute_reply.started": "2024-06-23T19:14:05.303161Z",
          "shell.execute_reply": "2024-06-23T19:14:23.577052Z"
        },
        "trusted": true,
        "id": "PYnH711Ko0bX"
      },
      "execution_count": null,
      "outputs": []
    }
  ]
}